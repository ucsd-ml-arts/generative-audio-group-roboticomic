{
 "cells": [
  {
   "cell_type": "markdown",
   "metadata": {},
   "source": [
    "# Setup Python Reddit API Wrapper"
   ]
  },
  {
   "cell_type": "code",
   "execution_count": 1,
   "metadata": {},
   "outputs": [],
   "source": [
    "import praw\n",
    "import pandas as pd\n",
    "\n",
    "#Reddit access token\n",
    "reddit = praw.Reddit(client_id='AdEIRtTPFKG0AQ',\n",
    "                     client_secret='qrjsHhYS7hkjkalw96EhcDCAOsU',\n",
    "                     user_agent='Jokeproj')\n"
   ]
  },
  {
   "cell_type": "code",
   "execution_count": 2,
   "metadata": {},
   "outputs": [],
   "source": [
    "#Subreddit to scrape\n",
    "subreddit = reddit.subreddit('oneliners')"
   ]
  },
  {
   "cell_type": "code",
   "execution_count": 3,
   "metadata": {},
   "outputs": [
    {
     "name": "stdout",
     "output_type": "stream",
     "text": [
      "100 submissions completed\n",
      "200 submissions completed\n",
      "300 submissions completed\n",
      "400 submissions completed\n",
      "500 submissions completed\n",
      "600 submissions completed\n",
      "700 submissions completed\n",
      "800 submissions completed\n",
      "900 submissions completed\n",
      "1000 submissions completed\n"
     ]
    }
   ],
   "source": [
    "joke = []\n",
    "#punchLine = []\n",
    "i=0\n",
    "\n",
    "#grab \"top\" 1000 posts\n",
    "for submission in subreddit.top(limit=1000):\n",
    "    i+=1\n",
    "    joke.append(submission.title)\n",
    "    #punchLine.append(submission.selftext)\n",
    "    if i%100 == 0:\n",
    "        print(f'{i} submissions completed')"
   ]
  },
  {
   "cell_type": "code",
   "execution_count": 4,
   "metadata": {},
   "outputs": [
    {
     "data": {
      "text/html": [
       "<div>\n",
       "<style scoped>\n",
       "    .dataframe tbody tr th:only-of-type {\n",
       "        vertical-align: middle;\n",
       "    }\n",
       "\n",
       "    .dataframe tbody tr th {\n",
       "        vertical-align: top;\n",
       "    }\n",
       "\n",
       "    .dataframe thead th {\n",
       "        text-align: right;\n",
       "    }\n",
       "</style>\n",
       "<table border=\"1\" class=\"dataframe\">\n",
       "  <thead>\n",
       "    <tr style=\"text-align: right;\">\n",
       "      <th></th>\n",
       "      <th>jokes</th>\n",
       "    </tr>\n",
       "  </thead>\n",
       "  <tbody>\n",
       "    <tr>\n",
       "      <th>0</th>\n",
       "      <td>You can't spell advertisements without semen b...</td>\n",
       "    </tr>\n",
       "    <tr>\n",
       "      <th>1</th>\n",
       "      <td>I was gonna tell a time travelling joke but yo...</td>\n",
       "    </tr>\n",
       "    <tr>\n",
       "      <th>2</th>\n",
       "      <td>My three favorite things are eating my family ...</td>\n",
       "    </tr>\n",
       "    <tr>\n",
       "      <th>3</th>\n",
       "      <td>The share button on reddit should be called sp...</td>\n",
       "    </tr>\n",
       "    <tr>\n",
       "      <th>4</th>\n",
       "      <td>If my wife made a dollar for every sexist joke...</td>\n",
       "    </tr>\n",
       "    <tr>\n",
       "      <th>5</th>\n",
       "      <td>I wanted to marry my English teacher when she ...</td>\n",
       "    </tr>\n",
       "    <tr>\n",
       "      <th>6</th>\n",
       "      <td>I saw a double-entendre contest, so I entered ...</td>\n",
       "    </tr>\n",
       "    <tr>\n",
       "      <th>7</th>\n",
       "      <td>Accordion to a recent survey, replacing words ...</td>\n",
       "    </tr>\n",
       "    <tr>\n",
       "      <th>8</th>\n",
       "      <td>If America changed from pounds to kilograms ov...</td>\n",
       "    </tr>\n",
       "    <tr>\n",
       "      <th>9</th>\n",
       "      <td>I think it’s pretty cool how the Chinese made ...</td>\n",
       "    </tr>\n",
       "  </tbody>\n",
       "</table>\n",
       "</div>"
      ],
      "text/plain": [
       "                                               jokes\n",
       "0  You can't spell advertisements without semen b...\n",
       "1  I was gonna tell a time travelling joke but yo...\n",
       "2  My three favorite things are eating my family ...\n",
       "3  The share button on reddit should be called sp...\n",
       "4  If my wife made a dollar for every sexist joke...\n",
       "5  I wanted to marry my English teacher when she ...\n",
       "6  I saw a double-entendre contest, so I entered ...\n",
       "7  Accordion to a recent survey, replacing words ...\n",
       "8  If America changed from pounds to kilograms ov...\n",
       "9  I think it’s pretty cool how the Chinese made ..."
      ]
     },
     "execution_count": 4,
     "metadata": {},
     "output_type": "execute_result"
    }
   ],
   "source": [
    "dadjokes_df = pd.DataFrame(\n",
    "    {'jokes': joke,\n",
    "    # 'punchlines': punchLine\n",
    "    })\n",
    "\n",
    "dadjokes_df.head(10)"
   ]
  },
  {
   "cell_type": "code",
   "execution_count": 5,
   "metadata": {},
   "outputs": [],
   "source": [
    "#export scraped jokes\n",
    "dadjokes_df.to_csv('oneliners.tsv', index=False, sep='\\t', encoding='UTF-8')"
   ]
  }
 ],
 "metadata": {
  "kernelspec": {
   "display_name": "Python 3",
   "language": "python",
   "name": "python3"
  },
  "language_info": {
   "codemirror_mode": {
    "name": "ipython",
    "version": 3
   },
   "file_extension": ".py",
   "mimetype": "text/x-python",
   "name": "python",
   "nbconvert_exporter": "python",
   "pygments_lexer": "ipython3",
   "version": "3.6.8"
  }
 },
 "nbformat": 4,
 "nbformat_minor": 2
}
