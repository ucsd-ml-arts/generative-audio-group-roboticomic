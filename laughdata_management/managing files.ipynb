{
 "cells": [
  {
   "cell_type": "code",
   "execution_count": 36,
   "metadata": {},
   "outputs": [],
   "source": [
    "import numpy as np\n",
    "import pandas as pd\n",
    "import os\n",
    "from shutil import copyfile"
   ]
  },
  {
   "cell_type": "code",
   "execution_count": 37,
   "metadata": {},
   "outputs": [
    {
     "data": {
      "text/plain": [
       "'/Users/rjara/Dropbox/UCSD/Classes/ECE/188/audio_samples'"
      ]
     },
     "execution_count": 37,
     "metadata": {},
     "output_type": "execute_result"
    }
   ],
   "source": [
    "os.getcwd()"
   ]
  },
  {
   "cell_type": "code",
   "execution_count": 3,
   "metadata": {},
   "outputs": [],
   "source": [
    "source = \"FSDKaggle2018.audio_train\"\n",
    "dest_all = 'all_laughs'\n",
    "dest_verified = 'verified_laughs'"
   ]
  },
  {
   "cell_type": "code",
   "execution_count": 13,
   "metadata": {},
   "outputs": [
    {
     "name": "stdout",
     "output_type": "stream",
     "text": [
      "True\n"
     ]
    }
   ],
   "source": [
    "print(os.path.isdir(source))"
   ]
  },
  {
   "cell_type": "code",
   "execution_count": 34,
   "metadata": {},
   "outputs": [],
   "source": [
    "with open(\"all_laughs.txt\", 'r') as file_all:\n",
    "    all_items = file_all.read().splitlines()\n",
    "with open(\"verified_laughs.txt\", 'r') as file_verified:\n",
    "    verified_items = file_verified.read().splitlines()"
   ]
  },
  {
   "cell_type": "code",
   "execution_count": 35,
   "metadata": {},
   "outputs": [
    {
     "name": "stdout",
     "output_type": "stream",
     "text": [
      "['0097160c.wav', '00ad7068.wav', '00c934d7.wav', '024a193f.wav', '041396a9.wav', '0447d04d.wav', '0632d921.wav', '06712325.wav', '0733ce78.wav', '098c2232.wav']\n",
      "['0097160c.wav', '00c934d7.wav', '024a193f.wav', '041396a9.wav', '0bd9f47b.wav', '0ca8b59b.wav', '0cdfa126.wav', '0dc26ae9.wav', '11e63946.wav', '14577fc0.wav']\n"
     ]
    }
   ],
   "source": [
    "print(all_items[0:10])\n",
    "print(verified_items[0:10])"
   ]
  },
  {
   "cell_type": "code",
   "execution_count": 38,
   "metadata": {},
   "outputs": [],
   "source": [
    "for item in all_items:\n",
    "    copyfile(source+'/'+item, dest_all+'/'+item)"
   ]
  },
  {
   "cell_type": "code",
   "execution_count": 39,
   "metadata": {},
   "outputs": [],
   "source": [
    "for item in verified_items:\n",
    "    copyfile(source+'/'+item, dest_verified+'/'+item)"
   ]
  },
  {
   "cell_type": "code",
   "execution_count": null,
   "metadata": {},
   "outputs": [],
   "source": [
    "# Folders with files have been created"
   ]
  }
 ],
 "metadata": {
  "kernelspec": {
   "display_name": "Python 3",
   "language": "python",
   "name": "python3"
  },
  "language_info": {
   "codemirror_mode": {
    "name": "ipython",
    "version": 3
   },
   "file_extension": ".py",
   "mimetype": "text/x-python",
   "name": "python",
   "nbconvert_exporter": "python",
   "pygments_lexer": "ipython3",
   "version": "3.6.8"
  }
 },
 "nbformat": 4,
 "nbformat_minor": 2
}
