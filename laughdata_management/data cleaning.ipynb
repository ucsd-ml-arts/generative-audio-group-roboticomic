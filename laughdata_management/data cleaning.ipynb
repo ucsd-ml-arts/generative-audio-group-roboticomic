{
 "cells": [
  {
   "cell_type": "code",
   "execution_count": 1,
   "metadata": {},
   "outputs": [],
   "source": [
    "import numpy as np\n",
    "import pandas as pd"
   ]
  },
  {
   "cell_type": "code",
   "execution_count": 8,
   "metadata": {},
   "outputs": [],
   "source": [
    "path_labels = \"train_post_competition.csv\""
   ]
  },
  {
   "cell_type": "code",
   "execution_count": 18,
   "metadata": {},
   "outputs": [
    {
     "data": {
      "text/html": [
       "<div>\n",
       "<style scoped>\n",
       "    .dataframe tbody tr th:only-of-type {\n",
       "        vertical-align: middle;\n",
       "    }\n",
       "\n",
       "    .dataframe tbody tr th {\n",
       "        vertical-align: top;\n",
       "    }\n",
       "\n",
       "    .dataframe thead th {\n",
       "        text-align: right;\n",
       "    }\n",
       "</style>\n",
       "<table border=\"1\" class=\"dataframe\">\n",
       "  <thead>\n",
       "    <tr style=\"text-align: right;\">\n",
       "      <th></th>\n",
       "      <th>fname</th>\n",
       "      <th>label</th>\n",
       "      <th>manually_verified</th>\n",
       "      <th>freesound_id</th>\n",
       "      <th>license</th>\n",
       "    </tr>\n",
       "  </thead>\n",
       "  <tbody>\n",
       "    <tr>\n",
       "      <th>0</th>\n",
       "      <td>00044347.wav</td>\n",
       "      <td>Hi-hat</td>\n",
       "      <td>0</td>\n",
       "      <td>28739</td>\n",
       "      <td>Attribution</td>\n",
       "    </tr>\n",
       "    <tr>\n",
       "      <th>1</th>\n",
       "      <td>001ca53d.wav</td>\n",
       "      <td>Saxophone</td>\n",
       "      <td>1</td>\n",
       "      <td>358827</td>\n",
       "      <td>Attribution</td>\n",
       "    </tr>\n",
       "    <tr>\n",
       "      <th>2</th>\n",
       "      <td>002d256b.wav</td>\n",
       "      <td>Trumpet</td>\n",
       "      <td>0</td>\n",
       "      <td>10897</td>\n",
       "      <td>Creative Commons 0</td>\n",
       "    </tr>\n",
       "    <tr>\n",
       "      <th>3</th>\n",
       "      <td>0033e230.wav</td>\n",
       "      <td>Glockenspiel</td>\n",
       "      <td>1</td>\n",
       "      <td>325017</td>\n",
       "      <td>Attribution</td>\n",
       "    </tr>\n",
       "    <tr>\n",
       "      <th>4</th>\n",
       "      <td>00353774.wav</td>\n",
       "      <td>Cello</td>\n",
       "      <td>1</td>\n",
       "      <td>195688</td>\n",
       "      <td>Attribution</td>\n",
       "    </tr>\n",
       "    <tr>\n",
       "      <th>5</th>\n",
       "      <td>003b91e8.wav</td>\n",
       "      <td>Cello</td>\n",
       "      <td>0</td>\n",
       "      <td>77944</td>\n",
       "      <td>Attribution</td>\n",
       "    </tr>\n",
       "    <tr>\n",
       "      <th>6</th>\n",
       "      <td>003da8e5.wav</td>\n",
       "      <td>Knock</td>\n",
       "      <td>1</td>\n",
       "      <td>164564</td>\n",
       "      <td>Creative Commons 0</td>\n",
       "    </tr>\n",
       "    <tr>\n",
       "      <th>7</th>\n",
       "      <td>0048fd00.wav</td>\n",
       "      <td>Gunshot_or_gunfire</td>\n",
       "      <td>1</td>\n",
       "      <td>274119</td>\n",
       "      <td>Creative Commons 0</td>\n",
       "    </tr>\n",
       "    <tr>\n",
       "      <th>8</th>\n",
       "      <td>004ad66f.wav</td>\n",
       "      <td>Clarinet</td>\n",
       "      <td>0</td>\n",
       "      <td>248370</td>\n",
       "      <td>Attribution</td>\n",
       "    </tr>\n",
       "    <tr>\n",
       "      <th>9</th>\n",
       "      <td>0063ab88.wav</td>\n",
       "      <td>Computer_keyboard</td>\n",
       "      <td>0</td>\n",
       "      <td>210304</td>\n",
       "      <td>Creative Commons 0</td>\n",
       "    </tr>\n",
       "    <tr>\n",
       "      <th>10</th>\n",
       "      <td>006f2f32.wav</td>\n",
       "      <td>Hi-hat</td>\n",
       "      <td>1</td>\n",
       "      <td>138726</td>\n",
       "      <td>Attribution</td>\n",
       "    </tr>\n",
       "    <tr>\n",
       "      <th>11</th>\n",
       "      <td>0075d39c.wav</td>\n",
       "      <td>Keys_jangling</td>\n",
       "      <td>0</td>\n",
       "      <td>134885</td>\n",
       "      <td>Attribution</td>\n",
       "    </tr>\n",
       "    <tr>\n",
       "      <th>12</th>\n",
       "      <td>00780200.wav</td>\n",
       "      <td>Snare_drum</td>\n",
       "      <td>0</td>\n",
       "      <td>59557</td>\n",
       "      <td>Creative Commons 0</td>\n",
       "    </tr>\n",
       "    <tr>\n",
       "      <th>13</th>\n",
       "      <td>0079d310.wav</td>\n",
       "      <td>Writing</td>\n",
       "      <td>0</td>\n",
       "      <td>185314</td>\n",
       "      <td>Attribution</td>\n",
       "    </tr>\n",
       "    <tr>\n",
       "      <th>14</th>\n",
       "      <td>0091fc7f.wav</td>\n",
       "      <td>Cello</td>\n",
       "      <td>1</td>\n",
       "      <td>358283</td>\n",
       "      <td>Attribution</td>\n",
       "    </tr>\n",
       "    <tr>\n",
       "      <th>15</th>\n",
       "      <td>0097160c.wav</td>\n",
       "      <td>Laughter</td>\n",
       "      <td>1</td>\n",
       "      <td>343867</td>\n",
       "      <td>Creative Commons 0</td>\n",
       "    </tr>\n",
       "    <tr>\n",
       "      <th>16</th>\n",
       "      <td>00ad7068.wav</td>\n",
       "      <td>Laughter</td>\n",
       "      <td>0</td>\n",
       "      <td>42843</td>\n",
       "      <td>Attribution</td>\n",
       "    </tr>\n",
       "    <tr>\n",
       "      <th>17</th>\n",
       "      <td>00c5808a.wav</td>\n",
       "      <td>Tearing</td>\n",
       "      <td>0</td>\n",
       "      <td>62469</td>\n",
       "      <td>Creative Commons 0</td>\n",
       "    </tr>\n",
       "    <tr>\n",
       "      <th>18</th>\n",
       "      <td>00c82919.wav</td>\n",
       "      <td>Fart</td>\n",
       "      <td>0</td>\n",
       "      <td>163384</td>\n",
       "      <td>Creative Commons 0</td>\n",
       "    </tr>\n",
       "    <tr>\n",
       "      <th>19</th>\n",
       "      <td>00c934d7.wav</td>\n",
       "      <td>Laughter</td>\n",
       "      <td>1</td>\n",
       "      <td>179989</td>\n",
       "      <td>Attribution</td>\n",
       "    </tr>\n",
       "  </tbody>\n",
       "</table>\n",
       "</div>"
      ],
      "text/plain": [
       "           fname               label  manually_verified  freesound_id  \\\n",
       "0   00044347.wav              Hi-hat                  0         28739   \n",
       "1   001ca53d.wav           Saxophone                  1        358827   \n",
       "2   002d256b.wav             Trumpet                  0         10897   \n",
       "3   0033e230.wav        Glockenspiel                  1        325017   \n",
       "4   00353774.wav               Cello                  1        195688   \n",
       "5   003b91e8.wav               Cello                  0         77944   \n",
       "6   003da8e5.wav               Knock                  1        164564   \n",
       "7   0048fd00.wav  Gunshot_or_gunfire                  1        274119   \n",
       "8   004ad66f.wav            Clarinet                  0        248370   \n",
       "9   0063ab88.wav   Computer_keyboard                  0        210304   \n",
       "10  006f2f32.wav              Hi-hat                  1        138726   \n",
       "11  0075d39c.wav       Keys_jangling                  0        134885   \n",
       "12  00780200.wav          Snare_drum                  0         59557   \n",
       "13  0079d310.wav             Writing                  0        185314   \n",
       "14  0091fc7f.wav               Cello                  1        358283   \n",
       "15  0097160c.wav            Laughter                  1        343867   \n",
       "16  00ad7068.wav            Laughter                  0         42843   \n",
       "17  00c5808a.wav             Tearing                  0         62469   \n",
       "18  00c82919.wav                Fart                  0        163384   \n",
       "19  00c934d7.wav            Laughter                  1        179989   \n",
       "\n",
       "               license  \n",
       "0          Attribution  \n",
       "1          Attribution  \n",
       "2   Creative Commons 0  \n",
       "3          Attribution  \n",
       "4          Attribution  \n",
       "5          Attribution  \n",
       "6   Creative Commons 0  \n",
       "7   Creative Commons 0  \n",
       "8          Attribution  \n",
       "9   Creative Commons 0  \n",
       "10         Attribution  \n",
       "11         Attribution  \n",
       "12  Creative Commons 0  \n",
       "13         Attribution  \n",
       "14         Attribution  \n",
       "15  Creative Commons 0  \n",
       "16         Attribution  \n",
       "17  Creative Commons 0  \n",
       "18  Creative Commons 0  \n",
       "19         Attribution  "
      ]
     },
     "execution_count": 18,
     "metadata": {},
     "output_type": "execute_result"
    }
   ],
   "source": [
    "df = pd.read_csv(path_labels)\n",
    "df[0:20]"
   ]
  },
  {
   "cell_type": "code",
   "execution_count": 16,
   "metadata": {},
   "outputs": [
    {
     "data": {
      "text/plain": [
       "0                 Hi-hat\n",
       "1              Saxophone\n",
       "2                Trumpet\n",
       "3           Glockenspiel\n",
       "4                  Cello\n",
       "5                  Cello\n",
       "6                  Knock\n",
       "7     Gunshot_or_gunfire\n",
       "8               Clarinet\n",
       "9      Computer_keyboard\n",
       "10                Hi-hat\n",
       "11         Keys_jangling\n",
       "12            Snare_drum\n",
       "13               Writing\n",
       "14                 Cello\n",
       "15              Laughter\n",
       "16              Laughter\n",
       "17               Tearing\n",
       "18                  Fart\n",
       "Name: label, dtype: object"
      ]
     },
     "execution_count": 16,
     "metadata": {},
     "output_type": "execute_result"
    }
   ],
   "source": [
    "df.label[0:19]"
   ]
  },
  {
   "cell_type": "code",
   "execution_count": 22,
   "metadata": {},
   "outputs": [],
   "source": [
    "laughter_df = df[df['label'] == 'Laughter']"
   ]
  },
  {
   "cell_type": "code",
   "execution_count": 29,
   "metadata": {},
   "outputs": [],
   "source": [
    "all_laugh_fnames = laughter_df['fname']"
   ]
  },
  {
   "cell_type": "code",
   "execution_count": 33,
   "metadata": {},
   "outputs": [
    {
     "data": {
      "text/plain": [
       "True"
      ]
     },
     "execution_count": 33,
     "metadata": {},
     "output_type": "execute_result"
    }
   ],
   "source": [
    "isinstance(all_laugh_fnames, pd.Series)"
   ]
  },
  {
   "cell_type": "code",
   "execution_count": 36,
   "metadata": {},
   "outputs": [],
   "source": [
    "with open('all_laughs.txt', 'w') as file:\n",
    "    for item in all_laugh_fnames:\n",
    "        file.write(item + '\\n')"
   ]
  },
  {
   "cell_type": "code",
   "execution_count": 25,
   "metadata": {},
   "outputs": [],
   "source": [
    "verified_laughter = laughter_df[laughter_df['manually_verified'] == 1]"
   ]
  },
  {
   "cell_type": "code",
   "execution_count": 37,
   "metadata": {},
   "outputs": [],
   "source": [
    "verified_laughter_fnames = verified_laughter['fname']"
   ]
  },
  {
   "cell_type": "code",
   "execution_count": 38,
   "metadata": {},
   "outputs": [],
   "source": [
    "with open('verified_laughs.txt', 'w') as file:\n",
    "    for item in verified_laughter_fnames:\n",
    "        file.write(item + '\\n')"
   ]
  },
  {
   "cell_type": "code",
   "execution_count": null,
   "metadata": {},
   "outputs": [],
   "source": [
    "# text files with names of relevant files have been created"
   ]
  }
 ],
 "metadata": {
  "kernelspec": {
   "display_name": "Python 3",
   "language": "python",
   "name": "python3"
  },
  "language_info": {
   "codemirror_mode": {
    "name": "ipython",
    "version": 3
   },
   "file_extension": ".py",
   "mimetype": "text/x-python",
   "name": "python",
   "nbconvert_exporter": "python",
   "pygments_lexer": "ipython3",
   "version": "3.6.8"
  }
 },
 "nbformat": 4,
 "nbformat_minor": 2
}
