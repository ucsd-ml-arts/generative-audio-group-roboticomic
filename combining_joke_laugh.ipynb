{
 "cells": [
  {
   "cell_type": "code",
   "execution_count": 116,
   "metadata": {},
   "outputs": [],
   "source": [
    "import numpy as np\n",
    "import scipy.io.wavfile as wav\n",
    "import scipy.signal as signal"
   ]
  },
  {
   "cell_type": "code",
   "execution_count": 128,
   "metadata": {},
   "outputs": [
    {
     "name": "stdout",
     "output_type": "stream",
     "text": [
      "jokes/Oneliner1.wav\n",
      "jokes/Oneliner2.wav\n",
      "jokes/Oneliner3.wav\n",
      "jokes/Oneliner4.wav\n",
      "jokes/Oneliner5.wav\n",
      "jokes/Joke1.wav\n",
      "jokes/Joke2.wav\n",
      "jokes/Joke3.wav\n",
      "jokes/Joke4.wav\n",
      "jokes/Joke5.wav\n"
     ]
    }
   ],
   "source": [
    "# Change paths depending on your current working directory\n",
    "\n",
    "joke_path = 'joke_audio_files/'\n",
    "laugh_path = 'tensorflow-wavenet/'\n",
    "output_path = 'stitched/'\n",
    "for i in range(10):\n",
    "    if i>4:\n",
    "        joke_file = joke_path + 'Joke' + str(i-4)+'.wav'\n",
    "    else:\n",
    "        joke_file = joke_path + 'Oneliner' + str(i+1)+'.wav'\n",
    "    print('Working on: {}'.format(joke_file))\n",
    "    \n",
    "    laugh_file = laugh_path + 'generated' + str(i+1) + '.wav'\n",
    "    laugh_rate, laugh_data = wav.read(laugh_file)\n",
    "    joke_rate, joke_data = wav.read(joke_file)\n",
    "    \n",
    "    laugh_data = laugh_data * (32767/4)\n",
    "    duration = laugh_data.size/laugh_rate\n",
    "    new_size = int(duration*joke_rate)\n",
    "    re_laugh = signal.resample(laugh_data, new_size)\n",
    "    re_laugh = re_laugh.astype(np.int16)\n",
    "    stitched = np.append(joke_data, re_laugh)\n",
    "    \n",
    "    output_filename = output_path + 'jokeandlaugh' + str(i+1) + '.wav'\n",
    "    wav.write(output_filename, joke_rate, stitched)"
   ]
  }
 ],
 "metadata": {
  "kernelspec": {
   "display_name": "Python 3",
   "language": "python",
   "name": "python3"
  },
  "language_info": {
   "codemirror_mode": {
    "name": "ipython",
    "version": 3
   },
   "file_extension": ".py",
   "mimetype": "text/x-python",
   "name": "python",
   "nbconvert_exporter": "python",
   "pygments_lexer": "ipython3",
   "version": "3.6.8"
  }
 },
 "nbformat": 4,
 "nbformat_minor": 2
}
